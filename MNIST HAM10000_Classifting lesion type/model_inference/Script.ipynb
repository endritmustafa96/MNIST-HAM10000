{
 "cells": [
  {
   "cell_type": "code",
   "execution_count": 20,
   "id": "592bc383-8d68-47c0-bb88-62f0e3d55f80",
   "metadata": {},
   "outputs": [
    {
     "name": "stdout",
     "output_type": "stream",
     "text": [
      "32/32 [==============================] - 1s 19ms/step\n"
     ]
    }
   ],
   "source": [
    "import os\n",
    "import json\n",
    "import pandas as pd\n",
    "import numpy as np\n",
    "from tensorflow.keras.models import load_model\n",
    "\n",
    "# Loading and Preprocessing Data\n",
    "file_path = \"../data/main_image_data.csv\"\n",
    "df = pd.read_csv(file_path)\n",
    "\n",
    "# Extracting only informations of the images that are splited in testing set\n",
    "df = df.loc[df['subset'] == 'test'].copy()\n",
    "\n",
    "# Extracing the pixel columns as a NumPy array\n",
    "pixel_columns = df[[f'pixel_{i+1}' for i in range(32*32*3)]].values\n",
    "\n",
    "# Reshapeing the pixel columns to create the 'image' column\n",
    "df['image'] = [pixels.reshape(32, 32, 3) for pixels in pixel_columns]\n",
    "\n",
    "# Dropping the individual pixel columns\n",
    "df.drop(columns=[f'pixel_{i+1}' for i in range(32*32*3)], inplace=True)\n",
    "\n",
    "# Loading the Pre-trained Model and Making Predictions\n",
    "model = load_model(\"../model_training/classifying_model_v3.h5\")\n",
    "\n",
    "df['image'] = df['image'] / 255\n",
    "\n",
    "# Reshaping the features \n",
    "X = np.array(df['image'].tolist())\n",
    "\n",
    "# Predicting on testing set \n",
    "predictions = model.predict(X)\n",
    "\n",
    "# Convert testing set classes to one hot vectors\n",
    "predicted_classes = np.argmax(predictions, axis=1)\n",
    "\n",
    "# Mapping Predicted Classes to real Class Labels\n",
    "class_labels = [\n",
    "    'BKL',\n",
    "    'NV',\n",
    "    'DF',\n",
    "    'MEL',\n",
    "    'VASC',\n",
    "    'BCC',\n",
    "    'AKIEC'\n",
    "]\n",
    "\n",
    "# Creating predicted labels for each class\n",
    "predicted_labels = [class_labels[i] for i in predicted_classes]\n",
    "\n",
    "# Creating JSON Data and Save to Json File\n",
    "data_list = []\n",
    "for image_id, pred_class in zip(df['image_id'], predicted_labels):\n",
    "    data_list.append({\"image_id\": image_id, \"lesion_type\": pred_class})\n",
    "\n",
    "json_data = json.dumps(data_list, indent=4)\n",
    "\n",
    "with open('predictions_v3.json', 'w') as json_file:\n",
    "    json_file.write(json_data)"
   ]
  },
  {
   "cell_type": "code",
   "execution_count": null,
   "id": "e97fa5bf-063a-416a-ad31-9813c584ea66",
   "metadata": {},
   "outputs": [],
   "source": []
  }
 ],
 "metadata": {
  "kernelspec": {
   "display_name": "Python 3",
   "language": "python",
   "name": "python3"
  },
  "language_info": {
   "codemirror_mode": {
    "name": "ipython",
    "version": 3
   },
   "file_extension": ".py",
   "mimetype": "text/x-python",
   "name": "python",
   "nbconvert_exporter": "python",
   "pygments_lexer": "ipython3",
   "version": "3.8.8"
  }
 },
 "nbformat": 4,
 "nbformat_minor": 5
}
